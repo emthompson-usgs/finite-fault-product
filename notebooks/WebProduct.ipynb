{
 "cells": [
  {
   "cell_type": "code",
   "execution_count": 5,
   "metadata": {},
   "outputs": [],
   "source": [
    "# stdlib imports\n",
    "import json\n",
    "import os\n",
    "import warnings\n",
    "\n",
    "# Third party imports\n",
    "from lxml import etree\n",
    "import matplotlib.pyplot as plt \n",
    "import numpy as np\n",
    "import shapely\n",
    "\n",
    "# Local imports\n",
    "from product.web_product import WebProduct\n",
    "\n",
    "%matplotlib inline"
   ]
  },
  {
   "cell_type": "markdown",
   "metadata": {},
   "source": [
    "# fromDirectory\n",
    "Creating an instance of WebProduct using formDirectory will gather the timeseries and fault information. The information about download files (filenames, titles, file types, etc.) will be gathered automaticaly unless otherwise specified. Files named timeseries.json, FMM.geojson, and comments.json are written automatically from the original directory. These can be edited before being sent as a product. Consistency of file name conventions can be validated by passing eventid as an argument.\n",
    "\n",
    "### Note: this assumes only one ffm per event"
   ]
  },
  {
   "cell_type": "code",
   "execution_count": 14,
   "metadata": {},
   "outputs": [],
   "source": [
    "directory = '../tests/data/products/1000dyad'\n",
    "product = WebProduct.fromDirectory(directory, '1000dyad') "
   ]
  },
  {
   "cell_type": "markdown",
   "metadata": {},
   "source": [
    "## Event information\n",
    "The event information is contained within a dictionary:"
   ]
  },
  {
   "cell_type": "code",
   "execution_count": 15,
   "metadata": {},
   "outputs": [
    {
     "name": "stdout",
     "output_type": "stream",
     "text": [
      "date 2018-05-04 00:00:00\n",
      "depth 8.0\n",
      "dip 20.0\n",
      "dx 4.0\n",
      "dz 2.5\n",
      "htop 4.15\n",
      "lat 19.37\n",
      "location HAWAII\n",
      "lon -155.03\n",
      "mag 6.88\n",
      "moment 2.7660745e+19\n",
      "rake 114.0\n",
      "strike 240.0\n"
     ]
    }
   ],
   "source": [
    "for key in sorted(product.event):\n",
    "    print(key, product.event[key])"
   ]
  },
  {
   "cell_type": "markdown",
   "metadata": {},
   "source": [
    "## Segment information\n",
    "Segments are provided as a list of dictionaries with the following properties:"
   ]
  },
  {
   "cell_type": "code",
   "execution_count": 19,
   "metadata": {},
   "outputs": [
    {
     "name": "stdout",
     "output_type": "stream",
     "text": [
      "lat :  <class 'numpy.ndarray'>\n",
      "strike :  <class 'float'>\n",
      "rise :  <class 'numpy.ndarray'>\n",
      "length :  <class 'float'>\n",
      "trup :  <class 'numpy.ndarray'>\n",
      "dip :  <class 'float'>\n",
      "rake :  <class 'numpy.ndarray'>\n",
      "y==ns :  <class 'numpy.ndarray'>\n",
      "depth :  <class 'numpy.ndarray'>\n",
      "sf_moment :  <class 'numpy.ndarray'>\n",
      "lon :  <class 'numpy.ndarray'>\n",
      "x==ew :  <class 'numpy.ndarray'>\n",
      "width :  <class 'float'>\n",
      "slip :  <class 'numpy.ndarray'>\n"
     ]
    }
   ],
   "source": [
    "for prop in sorted(product.segments)[0].items():\n",
    "    print(prop[0], ': ', type(prop[1]))"
   ]
  },
  {
   "cell_type": "markdown",
   "metadata": {},
   "source": [
    "## Contents.xml\n"
   ]
  },
  {
   "cell_type": "code",
   "execution_count": 20,
   "metadata": {},
   "outputs": [
    {
     "name": "stdout",
     "output_type": "stream",
     "text": [
      "<contents>\n",
      "  <file id=\"modelmaps\" title=\"Finite Fault Model Maps \">\n",
      "    <caption><![CDATA[Map representation of the finite fault model ]]></caption>\n",
      "    <format href=\"FFM.geojson\" type=\"text/plain\"/>\n",
      "    <format href=\"finite_fault.kml\" type=\"application/vnd.google-earth.kml+xml\"/>\n",
      "    <format href=\"finite_fault.kmz\" type=\"application/vnd.google-earth.kmz\"/>\n",
      "    <format href=\"basemap.png\" type=\"image/png\"/>\n",
      "  </file>\n",
      "  <file id=\"waveplots\" title=\"Wave Plots \">\n",
      "    <caption><![CDATA[Body and surface wave plots ]]></caption>\n",
      "    <format href=\"waveplots.zip\" type=\"application/zip\"/>\n",
      "  </file>\n",
      "  <file id=\"inpfiles\" title=\"Inversion Parameters \">\n",
      "    <caption><![CDATA[Files of inversion parameters for the finite fault ]]></caption>\n",
      "    <format href=\"basic_inversion.param\" type=\"text/plain\"/>\n",
      "    <format href=\"complete_inversion.fsp\" type=\"text/plain\"/>\n",
      "  </file>\n",
      "  <file id=\"coulomb\" title=\"Coulomb Input File \">\n",
      "    <caption><![CDATA[Format necessary for compatibility with Coulomb3 (http://earthquake.usgs.gov/research/software/coulomb/) ]]></caption>\n",
      "    <format href=\"coulomb.inp\" type=\"text/plain\"/>\n",
      "  </file>\n",
      "  <file id=\"momentrate\" title=\"Moment Rate Function Files \">\n",
      "    <caption><![CDATA[Files of time vs. moment rate for source time functions ]]></caption>\n",
      "    <format href=\"moment_rate.mr\" type=\"text/plain\"/>\n",
      "    <format href=\"moment_rate.png\" type=\"image/png\"/>\n",
      "  </file>\n",
      "</contents>\n",
      "\n"
     ]
    }
   ],
   "source": [
    "product.createContents(directory)\n",
    "print(etree.tostring(product.contents ,pretty_print=True).decode())"
   ]
  }
 ],
 "metadata": {
  "kernelspec": {
   "display_name": "Python 3",
   "language": "python",
   "name": "python3"
  },
  "language_info": {
   "codemirror_mode": {
    "name": "ipython",
    "version": 3
   },
   "file_extension": ".py",
   "mimetype": "text/x-python",
   "name": "python",
   "nbconvert_exporter": "python",
   "pygments_lexer": "ipython3",
   "version": "3.5.5"
  }
 },
 "nbformat": 4,
 "nbformat_minor": 2
}
