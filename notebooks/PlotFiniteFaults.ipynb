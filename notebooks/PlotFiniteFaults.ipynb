{
 "cells": [
  {
   "cell_type": "code",
   "execution_count": 1,
   "metadata": {
    "scrolled": true
   },
   "outputs": [],
   "source": [
    "# Standard Library Imports\n",
    "import os\n",
    "import glob\n",
    "\n",
    "# Third party imports\n",
    "import numpy as np\n",
    "import matplotlib.pyplot as plt\n",
    "import cartopy.crs as ccrs\n",
    "\n",
    "# Local imports\n",
    "from fault.fault import Fault\n",
    "from fault.io.fsp import read_from_file\n",
    "from fault.io.timeseries import read_from_directory\n",
    "\n",
    "%matplotlib inline"
   ]
  },
  {
   "cell_type": "markdown",
   "metadata": {},
   "source": [
    "# Quick Plotting of Rupture Grids\n",
    "Plots are created by finding the maximum area under a grid created using the convolution of the slip, as outlined on [page 4](https://www.researchgate.net/profile/P_Mai/publication/228607551_Source_scaling_properties_from_finite-fault-rupture_models/links/591b21e9a6fdcc701fd172f1/Source-scaling-properties-from-finite-fault-rupture-models.pdf):\n",
    "\n",
    "$$ \\frac{\\int^\\infty_{-\\infty} (f*f) dx}{f*f|_{x=0}} $$"
   ]
  },
  {
   "cell_type": "markdown",
   "metadata": {},
   "source": [
    "## Libcomcat request\n",
    "The following bash command will get fsp products from libcomcat. The current command will get 172 products, which takes around 5-10 minutes. Limiting times and magnitude for a smaller request is recommended.\n",
    "\n",
    "Note: bash script magic only works on Linux and MacOS."
   ]
  },
  {
   "cell_type": "code",
   "execution_count": null,
   "metadata": {},
   "outputs": [],
   "source": [
    "%%bash\n",
    "$(find ~/ -name getproduct | head -n 1) finite-fault .fsp -o /tmp/fsp_from_libcomcat -s 1980-01-01 -e 2018-04-18 -m 6 10 "
   ]
  },
  {
   "cell_type": "markdown",
   "metadata": {},
   "source": [
    "This command produces one product:"
   ]
  },
  {
   "cell_type": "code",
   "execution_count": 2,
   "metadata": {},
   "outputs": [
    {
     "name": "stderr",
     "output_type": "stream",
     "text": [
      "Downloaded us1000c2zy .fsp to /tmp/fsp_from_libcomcat/us1000c2zy/us1000c2zy_us_1_1000c2zy.fsp\n"
     ]
    }
   ],
   "source": [
    "%%bash\n",
    "$(find ~/ -name getproduct | head -n 1) finite-fault .fsp -o /tmp/fsp_from_libcomcat -s 2018-01-09 -e 2018-01-11 -m 7.5 8"
   ]
  },
  {
   "cell_type": "code",
   "execution_count": 3,
   "metadata": {
    "scrolled": true
   },
   "outputs": [],
   "source": [
    "# Group files in /tmp/fsp_from_libcomcat\n",
    "fsp_locations = []\n",
    "directory = os.getcwd()\n",
    "for file_path in glob.glob('/tmp/fsp_from_libcomcat/*/*.fsp'):\n",
    "        fsp_locations += [file_path]"
   ]
  },
  {
   "cell_type": "code",
   "execution_count": 4,
   "metadata": {
    "scrolled": false
   },
   "outputs": [
    {
     "name": "stdout",
     "output_type": "stream",
     "text": [
      "-----------------------------------------------------------------------------\n",
      "\n"
     ]
    },
    {
     "data": {
      "image/png": "[encoded data removed]",
      "text/plain": [
       "<Figure size 1440x720 with 1 Axes>"
      ]
     },
     "metadata": {},
     "output_type": "display_data"
    }
   ],
   "source": [
    "for fspfile in fsp_locations:\n",
    "    # Get filename and initialize plotting objects\n",
    "    fsp = Fault.fromFsp(fspfile)\n",
    "    fig = plt.figure(figsize=(20, 10))\n",
    "    counter = 0;\n",
    "    print('-----------------------------------------------------------------------------\\n')\n",
    "    # Loop through segments\n",
    "    for num in range(fsp.getNumSegments()):\n",
    "        # Get segment\n",
    "        segment = fsp.getSegment(num)\n",
    "        \n",
    "        # Threshold slip\n",
    "        thresholded_slip = fsp.thresholdSlip(segment['slip'])\n",
    "        \n",
    "        # Sum rows and columns\n",
    "        sum_rows, sum_columns = fsp.sumSlip(thresholded_slip)\n",
    "        \n",
    "        # Autocorrelate summed rows and columns\n",
    "        autocorrelated_rows, autocorrelated_columns = fsp.autocorrelateSums(sum_rows,sum_columns)\n",
    "        \n",
    "        # Get rupture dimensions\n",
    "        rupture_length, rupture_width = fsp.getRuptureSize(autocorrelated_rows, autocorrelated_columns)\n",
    "        \n",
    "        # Get min and max of rupture in two directions\n",
    "        left, right, top, bottom = fsp.getRuptureGrid(rupture_length, \n",
    "                        rupture_width, thresholded_slip, segment['length'],\n",
    "                        segment['width'])\n",
    "        \n",
    "        # Get corners as coordinates for primary segment\n",
    "        if num == 0:\n",
    "            corners = fsp.getCornerCoordinates(left, right, top, bottom, segment['lon'], segment['lat'])\n",
    "        \n",
    "        # Plot thresholded slip and grid corners\n",
    "        counter += 1\n",
    "        plt.subplot(np.ceil(fsp.getNumSegments()/3), 3, counter)\n",
    "        plt.imshow(thresholded_slip, cmap='jet', interpolation='none')\n",
    "        plt.plot(left, top,'o',markersize=15)\n",
    "        plt.plot(right, top,'o',markersize=15)\n",
    "        plt.plot(right, bottom,'o',markersize=15)\n",
    "        plt.plot(left, bottom,'o',markersize=15)\n",
    "        dirstr = fspfile.split('/')[-2]\n",
    "        plt.title(dirstr + ' Segment: ' + str(num) + ' ' + str(fsp._event['date']), fontsize=12)\n",
    "        \n",
    "    ax = plt.Axes(fig, [0., 0., 1., 1.])\n",
    "    ax.set_axis_off()\n",
    "    plt.tight_layout()\n",
    "    plt.show()\n",
    "    \n",
    "    # plot primary segment \n",
    "    #ax = plt.axes(projection=ccrs.PlateCarree())\n",
    "    #ax.stock_img()\n",
    "    #for key in corners:\n",
    "    #    coords = corners[key]\n",
    "    #    ax.scatter([coords[0]],\n",
    "    #       [coords[1]])\n",
    "    #    ax.set_xmargin(0.05)\n",
    "    #    ax.set_ymargin(0.10)"
   ]
  },
  {
   "cell_type": "markdown",
   "metadata": {},
   "source": [
    "## To delete files:\n",
    "%%bash\n",
    "\n",
    "rm -r /tmp/fsp_from_libcomcat"
   ]
  }
 ],
 "metadata": {
  "kernelspec": {
   "display_name": "Python 3",
   "language": "python",
   "name": "python3"
  },
  "language_info": {
   "codemirror_mode": {
    "name": "ipython",
    "version": 3
   },
   "file_extension": ".py",
   "mimetype": "text/x-python",
   "name": "python",
   "nbconvert_exporter": "python",
   "pygments_lexer": "ipython3",
   "version": "3.5.5"
  }
 },
 "nbformat": 4,
 "nbformat_minor": 2
}
